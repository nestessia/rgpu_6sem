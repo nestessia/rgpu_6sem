{
 "cells": [
  {
   "cell_type": "markdown",
   "metadata": {},
   "source": [
    "# Практическая работа\n",
    "## Линейная регрессия: California Housing Prices\n",
    "### Крючкова Анастасия Сергеевна & Зухир Амира Саидовна ИВТ 1.2"
   ]
  },
  {
   "cell_type": "code",
   "execution_count": 21,
   "metadata": {},
   "outputs": [
    {
     "name": "stdout",
     "output_type": "stream",
     "text": [
      "Requirement already satisfied: pandas in c:\\users\\neste\\documents\\github\\crawling\\venv\\lib\\site-packages (2.2.2)\n",
      "Requirement already satisfied: matplotlib in c:\\users\\neste\\documents\\github\\crawling\\venv\\lib\\site-packages (3.9.0)\n",
      "Requirement already satisfied: seaborn in c:\\users\\neste\\documents\\github\\crawling\\venv\\lib\\site-packages (0.13.2)\n",
      "Requirement already satisfied: numpy in c:\\users\\neste\\documents\\github\\crawling\\venv\\lib\\site-packages (1.26.4)\n",
      "Requirement already satisfied: scikit-learn in c:\\users\\neste\\documents\\github\\crawling\\venv\\lib\\site-packages (1.5.0)\n",
      "Requirement already satisfied: python-dateutil>=2.8.2 in c:\\users\\neste\\documents\\github\\crawling\\venv\\lib\\site-packages (from pandas) (2.8.2)\n",
      "Requirement already satisfied: pytz>=2020.1 in c:\\users\\neste\\documents\\github\\crawling\\venv\\lib\\site-packages (from pandas) (2024.1)\n",
      "Requirement already satisfied: tzdata>=2022.7 in c:\\users\\neste\\documents\\github\\crawling\\venv\\lib\\site-packages (from pandas) (2023.4)\n",
      "Requirement already satisfied: contourpy>=1.0.1 in c:\\users\\neste\\documents\\github\\crawling\\venv\\lib\\site-packages (from matplotlib) (1.2.1)\n",
      "Requirement already satisfied: cycler>=0.10 in c:\\users\\neste\\documents\\github\\crawling\\venv\\lib\\site-packages (from matplotlib) (0.12.1)\n",
      "Requirement already satisfied: fonttools>=4.22.0 in c:\\users\\neste\\documents\\github\\crawling\\venv\\lib\\site-packages (from matplotlib) (4.52.4)\n",
      "Requirement already satisfied: kiwisolver>=1.3.1 in c:\\users\\neste\\documents\\github\\crawling\\venv\\lib\\site-packages (from matplotlib) (1.4.5)\n",
      "Requirement already satisfied: packaging>=20.0 in c:\\users\\neste\\documents\\github\\crawling\\venv\\lib\\site-packages (from matplotlib) (24.0)\n",
      "Requirement already satisfied: pillow>=8 in c:\\users\\neste\\documents\\github\\crawling\\venv\\lib\\site-packages (from matplotlib) (10.3.0)\n",
      "Requirement already satisfied: pyparsing>=2.3.1 in c:\\users\\neste\\documents\\github\\crawling\\venv\\lib\\site-packages (from matplotlib) (3.1.2)\n",
      "Requirement already satisfied: scipy>=1.6.0 in c:\\users\\neste\\documents\\github\\crawling\\venv\\lib\\site-packages (from scikit-learn) (1.13.1)\n",
      "Requirement already satisfied: joblib>=1.2.0 in c:\\users\\neste\\documents\\github\\crawling\\venv\\lib\\site-packages (from scikit-learn) (1.4.2)\n",
      "Requirement already satisfied: threadpoolctl>=3.1.0 in c:\\users\\neste\\documents\\github\\crawling\\venv\\lib\\site-packages (from scikit-learn) (3.5.0)\n",
      "Requirement already satisfied: six>=1.5 in c:\\users\\neste\\documents\\github\\crawling\\venv\\lib\\site-packages (from python-dateutil>=2.8.2->pandas) (1.16.0)\n",
      "Note: you may need to restart the kernel to use updated packages.\n"
     ]
    }
   ],
   "source": [
    "%pip install pandas matplotlib seaborn numpy scikit-learn"
   ]
  },
  {
   "cell_type": "code",
   "execution_count": 22,
   "metadata": {},
   "outputs": [],
   "source": [
    "import pandas as pd\n",
    "import numpy as np\n",
    "from sklearn.model_selection import train_test_split, RandomizedSearchCV, GridSearchCV\n",
    "from sklearn.preprocessing import StandardScaler, OneHotEncoder\n",
    "from sklearn.impute import SimpleImputer\n",
    "from sklearn.compose import ColumnTransformer\n",
    "from sklearn.pipeline import Pipeline\n",
    "from sklearn.linear_model import LinearRegression\n",
    "from sklearn.metrics import mean_squared_error, r2_score, mean_absolute_error\n",
    "import matplotlib.pyplot as plt\n",
    "import seaborn as sns\n",
    "\n",
    "import warnings\n",
    "warnings.filterwarnings('ignore')"
   ]
  },
  {
   "cell_type": "markdown",
   "metadata": {},
   "source": [
    "# Загрузка данных"
   ]
  },
  {
   "cell_type": "code",
   "execution_count": 23,
   "metadata": {},
   "outputs": [],
   "source": [
    "data = pd.read_csv('./data/housing.csv')"
   ]
  },
  {
   "cell_type": "markdown",
   "metadata": {},
   "source": [
    "# Разделение данных на признаки и целевую переменную"
   ]
  },
  {
   "cell_type": "code",
   "execution_count": 24,
   "metadata": {},
   "outputs": [],
   "source": [
    "X = data.drop('median_house_value', axis=1)\n",
    "y = data['median_house_value']"
   ]
  },
  {
   "cell_type": "markdown",
   "metadata": {},
   "source": [
    "# Разбиение на тренировочную и тестовую выборки с помощью train_test_split"
   ]
  },
  {
   "cell_type": "code",
   "execution_count": 25,
   "metadata": {},
   "outputs": [],
   "source": [
    "X_train, X_test, y_train, y_test = train_test_split(X, y, test_size=0.2, random_state=42)"
   ]
  },
  {
   "cell_type": "markdown",
   "metadata": {},
   "source": [
    "# Определение числовых и категориальных признаков"
   ]
  },
  {
   "cell_type": "code",
   "execution_count": 26,
   "metadata": {},
   "outputs": [],
   "source": [
    "numeric_features = X.select_dtypes(include=[np.number]).columns.tolist()\n",
    "categorical_features = X.select_dtypes(include=[object]).columns.tolist()"
   ]
  },
  {
   "cell_type": "markdown",
   "metadata": {},
   "source": [
    "# Создание пайплайна для числовых признаков"
   ]
  },
  {
   "cell_type": "code",
   "execution_count": 27,
   "metadata": {},
   "outputs": [],
   "source": [
    "numeric_transformer = Pipeline(steps=[\n",
    "    ('imputer', SimpleImputer(strategy='median')),\n",
    "    ('scaler', StandardScaler())\n",
    "])"
   ]
  },
  {
   "cell_type": "markdown",
   "metadata": {},
   "source": [
    "# Создание пайплайна для категориальных признаков"
   ]
  },
  {
   "cell_type": "code",
   "execution_count": 28,
   "metadata": {},
   "outputs": [],
   "source": [
    "categorical_transformer = Pipeline(steps=[\n",
    "    ('imputer', SimpleImputer(strategy='most_frequent')),\n",
    "    ('onehot', OneHotEncoder(handle_unknown='ignore'))\n",
    "])"
   ]
  },
  {
   "cell_type": "markdown",
   "metadata": {},
   "source": [
    "# Объединение пайплайнов в ColumnTransformer"
   ]
  },
  {
   "cell_type": "code",
   "execution_count": 29,
   "metadata": {},
   "outputs": [],
   "source": [
    "preprocessor = ColumnTransformer(\n",
    "    transformers=[\n",
    "        ('num', numeric_transformer, numeric_features),\n",
    "        ('cat', categorical_transformer, categorical_features)\n",
    "    ])"
   ]
  },
  {
   "cell_type": "markdown",
   "metadata": {},
   "source": [
    "# Создание и обучение модели"
   ]
  },
  {
   "cell_type": "code",
   "execution_count": 30,
   "metadata": {},
   "outputs": [],
   "source": [
    "model = Pipeline(steps=[\n",
    "    ('preprocessor', preprocessor),\n",
    "    ('regressor', LinearRegression())\n",
    "])\n"
   ]
  },
  {
   "cell_type": "markdown",
   "metadata": {},
   "source": [
    "# Перебор гиперпараметров с использованием RandomizedSearchCV"
   ]
  },
  {
   "cell_type": "code",
   "execution_count": 31,
   "metadata": {},
   "outputs": [
    {
     "name": "stdout",
     "output_type": "stream",
     "text": [
      "Лучшие параметры (RandomizedSearchCV):  {'regressor__fit_intercept': True}\n"
     ]
    }
   ],
   "source": [
    "param_distributions = {\n",
    "    'regressor__fit_intercept': [True, False]\n",
    "}\n",
    "random_search = RandomizedSearchCV(model, param_distributions, n_iter=4, cv=5, scoring='neg_mean_squared_error', random_state=42)\n",
    "random_search.fit(X_train, y_train)\n",
    "print(\"Лучшие параметры (RandomizedSearchCV): \", random_search.best_params_)\n",
    "best_random_model = random_search.best_estimator_"
   ]
  },
  {
   "cell_type": "markdown",
   "metadata": {},
   "source": [
    "# Оценка модели RandomizedSearchCV"
   ]
  },
  {
   "cell_type": "code",
   "execution_count": 32,
   "metadata": {},
   "outputs": [],
   "source": [
    "y_train_pred = best_random_model.predict(X_train)\n",
    "y_test_pred = best_random_model.predict(X_test)"
   ]
  },
  {
   "cell_type": "markdown",
   "metadata": {},
   "source": [
    "# Подсчет метрик"
   ]
  },
  {
   "cell_type": "code",
   "execution_count": 33,
   "metadata": {},
   "outputs": [
    {
     "name": "stdout",
     "output_type": "stream",
     "text": [
      "Лучший Mean Squared Error (RandomizedSearchCV): 4908290571.346432\n",
      "Лучший R^2 Score (RandomizedSearchCV): 0.6254382675296266\n",
      "Mean Absolute Error (RandomizedSearchCV): 50670.48923565362\n",
      "Mean Absolute Percentage Error (RandomizedSearchCV): 29.19194627216551%\n"
     ]
    }
   ],
   "source": [
    "# Подсчет метрик\n",
    "mse_best_random = mean_squared_error(y_test, y_test_pred)\n",
    "r2_best_random = r2_score(y_test, y_test_pred)\n",
    "mae_best_random = mean_absolute_error(y_test, y_test_pred)\n",
    "mape_best_random = np.mean(np.abs((y_test - y_test_pred) / y_test)) * 100\n",
    "\n",
    "print(f'Лучший Mean Squared Error (RandomizedSearchCV): {mse_best_random}')\n",
    "print(f'Лучший R^2 Score (RandomizedSearchCV): {r2_best_random}')\n",
    "print(f'Mean Absolute Error (RandomizedSearchCV): {mae_best_random}')\n",
    "print(f'Mean Absolute Percentage Error (RandomizedSearchCV): {mape_best_random}%')"
   ]
  },
  {
   "cell_type": "markdown",
   "metadata": {},
   "source": [
    "# Значение свободного члена (intercept) обученной модели"
   ]
  },
  {
   "cell_type": "code",
   "execution_count": 34,
   "metadata": {},
   "outputs": [
    {
     "name": "stdout",
     "output_type": "stream",
     "text": [
      "Значение свободного члена (intercept) обученной модели: 238826.3594452512\n"
     ]
    }
   ],
   "source": [
    "print(f'Значение свободного члена (intercept) обученной модели: {best_random_model.named_steps[\"regressor\"].intercept_}')"
   ]
  },
  {
   "cell_type": "markdown",
   "metadata": {},
   "source": [
    "# Визуализация ошибок"
   ]
  },
  {
   "cell_type": "code",
   "execution_count": 35,
   "metadata": {},
   "outputs": [
    {
     "data": {
      "text/plain": [
       "Text(0, 0.5, 'Linear regression model')"
      ]
     },
     "execution_count": 35,
     "metadata": {},
     "output_type": "execute_result"
    },
    {
     "data": {
      "image/png": "[encoded data removed]",
      "text/plain": [
       "<Figure size 1200x600 with 1 Axes>"
      ]
     },
     "metadata": {},
     "output_type": "display_data"
    }
   ],
   "source": [
    "fig, ax = plt.subplots(figsize=(12, 6))\n",
    "y_train_errors = y_train - y_train_pred\n",
    "y_test_errors = y_test - y_test_pred\n",
    "predict_df = pd.DataFrame(\n",
    "    {'Train errors': y_train_errors, \n",
    "     'Test errors': y_test_errors\n",
    "    }\n",
    ")\n",
    "sns.boxplot(data=predict_df, ax=ax)\n",
    "ax.set_xlabel('Model errors')\n",
    "ax.set_ylabel('Linear regression model')"
   ]
  },
  {
   "cell_type": "markdown",
   "metadata": {},
   "source": [
    "# Перебор гиперпараметров с использованием GridSearchCV"
   ]
  },
  {
   "cell_type": "code",
   "execution_count": 36,
   "metadata": {},
   "outputs": [
    {
     "name": "stdout",
     "output_type": "stream",
     "text": [
      "Лучшие параметры (GridSearchCV):  {'regressor__fit_intercept': True}\n"
     ]
    }
   ],
   "source": [
    "param_grid = {\n",
    "    'regressor__fit_intercept': [True, False]\n",
    "}\n",
    "grid_search = GridSearchCV(model, param_grid, cv=5, scoring='neg_mean_squared_error')\n",
    "grid_search.fit(X_train, y_train)\n",
    "print(\"Лучшие параметры (GridSearchCV): \", grid_search.best_params_)\n",
    "best_grid_model = grid_search.best_estimator_"
   ]
  },
  {
   "cell_type": "markdown",
   "metadata": {},
   "source": [
    "# Оценка модели GridSearchCV"
   ]
  },
  {
   "cell_type": "code",
   "execution_count": 37,
   "metadata": {},
   "outputs": [],
   "source": [
    "y_train_pred_grid = best_grid_model.predict(X_train)\n",
    "y_test_pred_grid = best_grid_model.predict(X_test)"
   ]
  },
  {
   "cell_type": "markdown",
   "metadata": {},
   "source": [
    "# Подсчет метрик для GridSearchCV"
   ]
  },
  {
   "cell_type": "code",
   "execution_count": 38,
   "metadata": {},
   "outputs": [
    {
     "name": "stdout",
     "output_type": "stream",
     "text": [
      "Лучший Mean Squared Error (GridSearchCV): 4908290571.346432\n",
      "Лучший R^2 Score (GridSearchCV): 0.6254382675296266\n",
      "Mean Absolute Error (GridSearchCV): 50670.48923565362\n",
      "Mean Absolute Percentage Error (GridSearchCV): 29.19194627216551%\n"
     ]
    }
   ],
   "source": [
    "mse_best_grid = mean_squared_error(y_test, y_test_pred_grid)\n",
    "r2_best_grid = r2_score(y_test, y_test_pred_grid)\n",
    "mae_best_grid = mean_absolute_error(y_test, y_test_pred_grid)\n",
    "mape_best_grid = np.mean(np.abs((y_test - y_test_pred_grid) / y_test)) * 100\n",
    "\n",
    "print(f'Лучший Mean Squared Error (GridSearchCV): {mse_best_grid}')\n",
    "print(f'Лучший R^2 Score (GridSearchCV): {r2_best_grid}')\n",
    "print(f'Mean Absolute Error (GridSearchCV): {mae_best_grid}')\n",
    "print(f'Mean Absolute Percentage Error (GridSearchCV): {mape_best_grid}%')"
   ]
  },
  {
   "cell_type": "markdown",
   "metadata": {},
   "source": [
    "# Значение свободного члена (intercept) обученной модели GridSearchCV"
   ]
  },
  {
   "cell_type": "code",
   "execution_count": 39,
   "metadata": {},
   "outputs": [
    {
     "name": "stdout",
     "output_type": "stream",
     "text": [
      "Значение свободного члена (intercept) обученной модели GridSearchCV: 238826.3594452512\n"
     ]
    }
   ],
   "source": [
    "print(f'Значение свободного члена (intercept) обученной модели GridSearchCV: {best_grid_model.named_steps[\"regressor\"].intercept_}')"
   ]
  },
  {
   "cell_type": "markdown",
   "metadata": {},
   "source": [
    "# Визуализация ошибок для GridSearchCV"
   ]
  },
  {
   "cell_type": "code",
   "execution_count": 40,
   "metadata": {},
   "outputs": [
    {
     "data": {
      "text/plain": [
       "Text(0, 0.5, 'Linear regression model (GridSearchCV)')"
      ]
     },
     "execution_count": 40,
     "metadata": {},
     "output_type": "execute_result"
    },
    {
     "data": {
      "image/png": "[encoded data removed]",
      "text/plain": [
       "<Figure size 1200x600 with 1 Axes>"
      ]
     },
     "metadata": {},
     "output_type": "display_data"
    }
   ],
   "source": [
    "fig, ax = plt.subplots(figsize=(12, 6))\n",
    "y_train_errors_grid = y_train - y_train_pred_grid\n",
    "y_test_errors_grid = y_test - y_test_pred_grid\n",
    "predict_df_grid = pd.DataFrame(\n",
    "    {'Train errors': y_train_errors_grid, \n",
    "     'Test errors': y_test_errors_grid\n",
    "    }\n",
    ")\n",
    "sns.boxplot(data=predict_df_grid, ax=ax)\n",
    "ax.set_xlabel('Model errors')\n",
    "ax.set_ylabel('Linear regression model (GridSearchCV)')"
   ]
  }
 ],
 "metadata": {
  "kernelspec": {
   "display_name": "venv",
   "language": "python",
   "name": "python3"
  },
  "language_info": {
   "codemirror_mode": {
    "name": "ipython",
    "version": 3
   },
   "file_extension": ".py",
   "mimetype": "text/x-python",
   "name": "python",
   "nbconvert_exporter": "python",
   "pygments_lexer": "ipython3",
   "version": "3.12.2"
  }
 },
 "nbformat": 4,
 "nbformat_minor": 2
}
