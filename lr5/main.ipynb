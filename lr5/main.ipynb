{
 "cells": [
  {
   "cell_type": "markdown",
   "metadata": {},
   "source": [
    "# Лабораторная работа 5"
   ]
  },
  {
   "cell_type": "markdown",
   "metadata": {},
   "source": [
    "### Устанавливаем библиотеки"
   ]
  },
  {
   "cell_type": "code",
   "execution_count": 15,
   "metadata": {},
   "outputs": [
    {
     "name": "stdout",
     "output_type": "stream",
     "text": [
      "Requirement already satisfied: pandas in c:\\users\\neste\\appdata\\local\\programs\\python\\python312\\lib\\site-packages (2.2.2)\n",
      "Requirement already satisfied: matplotlib in c:\\users\\neste\\appdata\\local\\programs\\python\\python312\\lib\\site-packages (3.9.0)\n",
      "Requirement already satisfied: numpy in c:\\users\\neste\\appdata\\local\\programs\\python\\python312\\lib\\site-packages (1.26.4)\n",
      "Requirement already satisfied: scikit-learn in c:\\users\\neste\\appdata\\local\\programs\\python\\python312\\lib\\site-packages (1.5.0)\n",
      "Requirement already satisfied: python-dateutil>=2.8.2 in c:\\users\\neste\\appdata\\roaming\\python\\python312\\site-packages (from pandas) (2.9.0.post0)\n",
      "Requirement already satisfied: pytz>=2020.1 in c:\\users\\neste\\appdata\\local\\programs\\python\\python312\\lib\\site-packages (from pandas) (2024.1)\n",
      "Requirement already satisfied: tzdata>=2022.7 in c:\\users\\neste\\appdata\\local\\programs\\python\\python312\\lib\\site-packages (from pandas) (2024.1)\n",
      "Requirement already satisfied: contourpy>=1.0.1 in c:\\users\\neste\\appdata\\local\\programs\\python\\python312\\lib\\site-packages (from matplotlib) (1.2.1)\n",
      "Requirement already satisfied: cycler>=0.10 in c:\\users\\neste\\appdata\\local\\programs\\python\\python312\\lib\\site-packages (from matplotlib) (0.12.1)\n",
      "Requirement already satisfied: fonttools>=4.22.0 in c:\\users\\neste\\appdata\\local\\programs\\python\\python312\\lib\\site-packages (from matplotlib) (4.53.0)\n",
      "Requirement already satisfied: kiwisolver>=1.3.1 in c:\\users\\neste\\appdata\\local\\programs\\python\\python312\\lib\\site-packages (from matplotlib) (1.4.5)\n",
      "Requirement already satisfied: packaging>=20.0 in c:\\users\\neste\\appdata\\roaming\\python\\python312\\site-packages (from matplotlib) (24.0)\n",
      "Requirement already satisfied: pillow>=8 in c:\\users\\neste\\appdata\\local\\programs\\python\\python312\\lib\\site-packages (from matplotlib) (10.3.0)\n",
      "Requirement already satisfied: pyparsing>=2.3.1 in c:\\users\\neste\\appdata\\local\\programs\\python\\python312\\lib\\site-packages (from matplotlib) (3.1.2)\n",
      "Requirement already satisfied: scipy>=1.6.0 in c:\\users\\neste\\appdata\\local\\programs\\python\\python312\\lib\\site-packages (from scikit-learn) (1.13.1)\n",
      "Requirement already satisfied: joblib>=1.2.0 in c:\\users\\neste\\appdata\\local\\programs\\python\\python312\\lib\\site-packages (from scikit-learn) (1.4.2)\n",
      "Requirement already satisfied: threadpoolctl>=3.1.0 in c:\\users\\neste\\appdata\\local\\programs\\python\\python312\\lib\\site-packages (from scikit-learn) (3.5.0)\n",
      "Requirement already satisfied: six>=1.5 in c:\\users\\neste\\appdata\\roaming\\python\\python312\\site-packages (from python-dateutil>=2.8.2->pandas) (1.16.0)\n",
      "Note: you may need to restart the kernel to use updated packages.\n"
     ]
    }
   ],
   "source": [
    "%pip install pandas matplotlib numpy scikit-learn"
   ]
  },
  {
   "cell_type": "markdown",
   "metadata": {},
   "source": [
    "# Импорты"
   ]
  },
  {
   "cell_type": "code",
   "execution_count": 16,
   "metadata": {},
   "outputs": [],
   "source": [
    "import pandas as pd\n",
    "import numpy as np\n",
    "import matplotlib.pyplot as plt\n",
    "from sklearn.metrics import r2_score, mean_squared_error, mean_absolute_error\n",
    "import warnings\n",
    "\n",
    "warnings.filterwarnings(\"ignore\", message=\"'squared' is deprecated\")"
   ]
  },
  {
   "cell_type": "markdown",
   "metadata": {},
   "source": [
    "# Загрузка данных"
   ]
  },
  {
   "cell_type": "code",
   "execution_count": 17,
   "metadata": {},
   "outputs": [
    {
     "name": "stdout",
     "output_type": "stream",
     "text": [
      "<class 'pandas.core.frame.DataFrame'>\n",
      "Index: 735 entries, 0 to 742\n",
      "Data columns (total 2 columns):\n",
      " #   Column      Non-Null Count  Dtype  \n",
      "---  ------      --------------  -----  \n",
      " 0   hour        735 non-null    int64  \n",
      " 1   n_requests  735 non-null    float64\n",
      "dtypes: float64(1), int64(1)\n",
      "memory usage: 17.2 KB\n"
     ]
    }
   ],
   "source": [
    "data = pd.read_csv('web_traffic.tsv', delimiter='\\t', names=['hour', 'n_requests'])\n",
    "data1 = data.dropna()\n",
    "data1.info()"
   ]
  },
  {
   "cell_type": "markdown",
   "metadata": {},
   "source": [
    "# Присвоение переменных"
   ]
  },
  {
   "cell_type": "code",
   "execution_count": 18,
   "metadata": {},
   "outputs": [],
   "source": [
    "input_var = 'hour'\n",
    "target_var = 'n_requests'\n",
    "hours_data = data[input_var].values\n",
    "requests_data = data[target_var].values"
   ]
  },
  {
   "cell_type": "markdown",
   "metadata": {},
   "source": [
    "# Границы данных для обучения и тестирования"
   ]
  },
  {
   "cell_type": "code",
   "execution_count": 19,
   "metadata": {},
   "outputs": [
    {
     "name": "stdout",
     "output_type": "stream",
     "text": [
      "504\n",
      "645\n",
      "705\n"
     ]
    }
   ],
   "source": [
    "train_border_weeks = 3\n",
    "final_border_weeks = 4.2\n",
    "\n",
    "train_data_border = int(train_border_weeks * 7 * 24)\n",
    "final_data_border = int(final_border_weeks * 7 * 24)\n",
    "border_70 = int(round(train_data_border + (final_data_border - train_data_border) * 0.7, 0))\n",
    "\n",
    "print(train_data_border)\n",
    "print(border_70)\n",
    "print(final_data_border)"
   ]
  },
  {
   "cell_type": "markdown",
   "metadata": {},
   "source": [
    "# Разделение данных на обучающие и тестовые"
   ]
  },
  {
   "cell_type": "code",
   "execution_count": 20,
   "metadata": {},
   "outputs": [
    {
     "name": "stdout",
     "output_type": "stream",
     "text": [
      "[505 506 507 508 509] [1874. 1816. 1097. 2015. 2241.] [646 647 648 649 650] [3009. 2538. 2782. 2491. 2408.]\n"
     ]
    }
   ],
   "source": [
    "hours_data_train = hours_data[train_data_border:border_70]\n",
    "requests_data_train = requests_data[train_data_border:border_70]\n",
    "hours_data_test = hours_data[border_70:final_data_border]\n",
    "requests_data_test = requests_data[border_70:final_data_border]\n",
    "\n",
    "print(hours_data_train[:5], requests_data_train[:5], hours_data_test[:5], requests_data_test[:5])"
   ]
  },
  {
   "cell_type": "markdown",
   "metadata": {},
   "source": [
    "# Вычисление полиномов и метрик"
   ]
  },
  {
   "cell_type": "code",
   "execution_count": 21,
   "metadata": {},
   "outputs": [],
   "source": [
    "def calculate_metrics(degree, hours_data_train, requests_data_train):\n",
    "    f2p, _, _, _, _ = np.polyfit(hours_data_train, requests_data_train, degree, full=True)\n",
    "    fx = np.poly1d(f2p)\n",
    "    mse = mean_squared_error(requests_data_train, fx(hours_data_train), squared=True)\n",
    "    rmse = mean_squared_error(requests_data_train, fx(hours_data_train), squared=False)\n",
    "    mae = mean_absolute_error(requests_data_train, fx(hours_data_train))\n",
    "    r2 = r2_score(requests_data_train, fx(hours_data_train))\n",
    "    return fx, mse, rmse, mae, r2"
   ]
  },
  {
   "cell_type": "markdown",
   "metadata": {},
   "source": [
    "# Вычисление и вывод метрик для полиномов степени 1, 2 и 3"
   ]
  },
  {
   "cell_type": "code",
   "execution_count": 22,
   "metadata": {},
   "outputs": [
    {
     "name": "stdout",
     "output_type": "stream",
     "text": [
      "Степень полинома 1: r2=0.07191065697741139, mse=141406.31294974717, rmse=376.04030761308974, mae=289.8492660707468\n",
      "Степень полинома 2: r2=0.07707590442569234, mse=140619.3212634126, rmse=374.9924282747754, mae=289.33124206871247\n",
      "Степень полинома 3: r2=0.11072716333080568, mse=135492.12043553538, rmse=368.0925433033592, mae=281.40729322826326\n"
     ]
    }
   ],
   "source": [
    "for degree in range(1, 4):\n",
    "    fx, mse, rmse, mae, r2 = calculate_metrics(degree, hours_data_train, requests_data_train)\n",
    "    print(f'Степень полинома {degree}: r2={r2}, mse={mse}, rmse={rmse}, mae={mae}')"
   ]
  },
  {
   "cell_type": "markdown",
   "metadata": {},
   "source": [
    "# Визуализация данных и полиномов"
   ]
  },
  {
   "cell_type": "code",
   "execution_count": 28,
   "metadata": {},
   "outputs": [
    {
     "data": {
      "image/png": "[encoded data removed]",
      "text/plain": [
       "<Figure size 640x480 with 1 Axes>"
      ]
     },
     "metadata": {},
     "output_type": "display_data"
    }
   ],
   "source": [
    "plt.scatter(hours_data_train, requests_data_train, s=0.5)\n",
    "plt.xlabel('Время')\n",
    "plt.ylabel('Количество')\n",
    "plt.xticks([w*7*24 for w in range(6)], [f\"{w} неделя\" for w in range(6)])\n",
    "f2x = np.linspace(train_data_border, border_70, len(hours_data_train))\n",
    "colors = ['red', 'magenta', 'lime']\n",
    "labels = ['1 степень', '2 степень', '3 степень']\n",
    "for degree, color, label in zip(range(1, 4), colors, labels):\n",
    "    fx, _, _, _, _ = calculate_metrics(degree, hours_data_train, requests_data_train)\n",
    "    plt.plot(f2x, fx(f2x), linewidth=1.0, color=color, label=label)\n",
    "plt.autoscale(tight=False)\n",
    "plt.legend()\n",
    "plt.show()"
   ]
  },
  {
   "cell_type": "markdown",
   "metadata": {},
   "source": [
    "# Итеративное обучение и оценка моделей"
   ]
  },
  {
   "cell_type": "code",
   "execution_count": 25,
   "metadata": {},
   "outputs": [
    {
     "name": "stdout",
     "output_type": "stream",
     "text": [
      "Процентаж: тренировочная=2.5%, тестовая=97.5%\n",
      "Полиномиальная степень 1: mse=130645.66, rmse=361.45, mae=284.64\n",
      "Полиномиальная степень 2: mse=61188.16, rmse=247.36, mae=211.52\n",
      "Полиномиальная степень 3: mse=61168.94, rmse=247.32, mae=211.52\n",
      "Процентаж: тренировочная=5.0%, тестовая=95.0%\n",
      "Полиномиальная степень 1: mse=278825.28, rmse=528.04, mae=430.96\n",
      "Полиномиальная степень 2: mse=273170.86, rmse=522.66, mae=439.24\n",
      "Полиномиальная степень 3: mse=268296.71, rmse=517.97, mae=444.0\n",
      "Процентаж: тренировочная=7.5%, тестовая=92.5%\n",
      "Полиномиальная степень 1: mse=210830.89, rmse=459.16, mae=357.69\n",
      "Полиномиальная степень 2: mse=204927.01, rmse=452.69, mae=353.91\n",
      "Полиномиальная степень 3: mse=203472.22, rmse=451.08, mae=352.53\n",
      "Процентаж: тренировочная=10.0%, тестовая=90.0%\n",
      "Полиномиальная степень 1: mse=217920.55, rmse=466.82, mae=386.31\n",
      "Полиномиальная степень 2: mse=215995.28, rmse=464.75, mae=384.06\n",
      "Полиномиальная степень 3: mse=185240.88, rmse=430.4, mae=352.25\n",
      "Процентаж: тренировочная=12.4%, тестовая=87.6%\n",
      "Полиномиальная степень 1: mse=189740.22, rmse=435.59, mae=350.58\n",
      "Полиномиальная степень 2: mse=187693.13, rmse=433.24, mae=351.35\n",
      "Полиномиальная степень 3: mse=187676.38, rmse=433.22, mae=351.38\n",
      "Процентаж: тренировочная=14.9%, тестовая=85.1%\n",
      "Полиномиальная степень 1: mse=179276.77, rmse=423.41, mae=323.53\n",
      "Полиномиальная степень 2: mse=170802.48, rmse=413.28, mae=331.05\n",
      "Полиномиальная степень 3: mse=170756.25, rmse=413.23, mae=330.41\n",
      "Процентаж: тренировочная=17.4%, тестовая=82.6%\n",
      "Полиномиальная степень 1: mse=164964.56, rmse=406.16, mae=303.59\n",
      "Полиномиальная степень 2: mse=153480.39, rmse=391.77, mae=308.74\n",
      "Полиномиальная степень 3: mse=153364.88, rmse=391.62, mae=309.21\n",
      "Процентаж: тренировочная=19.9%, тестовая=80.1%\n",
      "Полиномиальная степень 1: mse=164260.03, rmse=405.29, mae=312.08\n",
      "Полиномиальная степень 2: mse=164116.85, rmse=405.11, mae=312.98\n",
      "Полиномиальная степень 3: mse=156028.79, rmse=395.0, mae=304.18\n",
      "Процентаж: тренировочная=22.4%, тестовая=77.6%\n",
      "Полиномиальная степень 1: mse=151769.81, rmse=389.58, mae=297.58\n",
      "Полиномиальная степень 2: mse=151395.14, rmse=389.1, mae=295.82\n",
      "Полиномиальная степень 3: mse=142896.65, rmse=378.02, mae=289.58\n",
      "Процентаж: тренировочная=24.9%, тестовая=75.1%\n",
      "Полиномиальная степень 1: mse=167985.77, rmse=409.86, mae=314.11\n",
      "Полиномиальная степень 2: mse=167663.52, rmse=409.47, mae=310.77\n",
      "Полиномиальная степень 3: mse=163083.46, rmse=403.84, mae=306.9\n",
      "Процентаж: тренировочная=27.4%, тестовая=72.6%\n",
      "Полиномиальная степень 1: mse=154688.59, rmse=393.3, mae=297.18\n",
      "Полиномиальная степень 2: mse=154688.47, rmse=393.3, mae=297.15\n",
      "Полиномиальная степень 3: mse=153708.59, rmse=392.06, mae=298.37\n",
      "Процентаж: тренировочная=29.9%, тестовая=70.1%\n",
      "Полиномиальная степень 1: mse=149891.89, rmse=387.16, mae=294.05\n",
      "Полиномиальная степень 2: mse=149891.64, rmse=387.16, mae=294.03\n",
      "Полиномиальная степень 3: mse=149246.43, rmse=386.32, mae=295.01\n",
      "Процентаж: тренировочная=32.3%, тестовая=67.7%\n",
      "Полиномиальная степень 1: mse=144390.6, rmse=379.99, mae=289.42\n",
      "Полиномиальная степень 2: mse=144390.6, rmse=379.99, mae=289.42\n",
      "Полиномиальная степень 3: mse=144196.25, rmse=379.73, mae=289.26\n",
      "Процентаж: тренировочная=34.8%, тестовая=65.2%\n",
      "Полиномиальная степень 1: mse=155153.92, rmse=393.9, mae=301.84\n",
      "Полиномиальная степень 2: mse=154542.17, rmse=393.12, mae=302.68\n",
      "Полиномиальная степень 3: mse=154351.91, rmse=392.88, mae=301.24\n",
      "Процентаж: тренировочная=37.3%, тестовая=62.7%\n",
      "Полиномиальная степень 1: mse=147121.27, rmse=383.56, mae=292.25\n",
      "Полиномиальная степень 2: mse=145722.71, rmse=381.74, mae=291.57\n",
      "Полиномиальная степень 3: mse=145343.18, rmse=381.24, mae=289.02\n",
      "Процентаж: тренировочная=39.8%, тестовая=60.2%\n",
      "Полиномиальная степень 1: mse=140898.1, rmse=375.36, mae=285.68\n",
      "Полиномиальная степень 2: mse=139309.99, rmse=373.24, mae=283.38\n",
      "Полиномиальная степень 3: mse=139155.9, rmse=373.04, mae=281.82\n",
      "Процентаж: тренировочная=42.3%, тестовая=57.7%\n",
      "Полиномиальная степень 1: mse=147055.74, rmse=383.48, mae=293.22\n",
      "Полиномиальная степень 2: mse=143115.51, rmse=378.31, mae=289.96\n",
      "Полиномиальная степень 3: mse=142322.11, rmse=377.26, mae=286.95\n",
      "Процентаж: тренировочная=44.8%, тестовая=55.2%\n",
      "Полиномиальная степень 1: mse=152727.4, rmse=390.8, mae=296.68\n",
      "Полиномиальная степень 2: mse=152182.5, rmse=390.11, mae=295.65\n",
      "Полиномиальная степень 3: mse=151573.34, rmse=389.32, mae=297.46\n",
      "Процентаж: тренировочная=47.3%, тестовая=52.7%\n",
      "Полиномиальная степень 1: mse=150719.59, rmse=388.23, mae=295.27\n",
      "Полиномиальная степень 2: mse=148763.29, rmse=385.7, mae=291.94\n",
      "Полиномиальная степень 3: mse=148763.27, rmse=385.7, mae=291.92\n",
      "Процентаж: тренировочная=49.8%, тестовая=50.2%\n",
      "Полиномиальная степень 1: mse=152130.72, rmse=390.04, mae=300.52\n",
      "Полиномиальная степень 2: mse=147805.78, rmse=384.46, mae=292.51\n",
      "Полиномиальная степень 3: mse=147468.15, rmse=384.02, mae=290.24\n",
      "Процентаж: тренировочная=52.2%, тестовая=47.8%\n",
      "Полиномиальная степень 1: mse=145683.7, rmse=381.69, mae=291.24\n",
      "Полиномиальная степень 2: mse=142154.46, rmse=377.03, mae=285.8\n",
      "Полиномиальная степень 3: mse=142151.13, rmse=377.03, mae=285.73\n",
      "Процентаж: тренировочная=54.7%, тестовая=45.3%\n",
      "Полиномиальная степень 1: mse=146973.09, rmse=383.37, mae=292.65\n",
      "Полиномиальная степень 2: mse=145107.59, rmse=380.93, mae=288.79\n",
      "Полиномиальная степень 3: mse=144535.88, rmse=380.18, mae=288.74\n",
      "Процентаж: тренировочная=57.2%, тестовая=42.8%\n",
      "Полиномиальная степень 1: mse=142521.53, rmse=377.52, mae=288.09\n",
      "Полиномиальная степень 2: mse=141517.16, rmse=376.19, mae=285.68\n",
      "Полиномиальная степень 3: mse=140246.63, rmse=374.5, mae=285.34\n",
      "Процентаж: тренировочная=59.7%, тестовая=40.3%\n",
      "Полиномиальная степень 1: mse=138678.28, rmse=372.4, mae=284.13\n",
      "Полиномиальная степень 2: mse=138325.56, rmse=371.92, mae=283.08\n",
      "Полиномиальная степень 3: mse=136047.37, rmse=368.85, mae=281.5\n",
      "Процентаж: тренировочная=62.2%, тестовая=37.8%\n",
      "Полиномиальная степень 1: mse=134143.43, rmse=366.26, mae=277.81\n",
      "Полиномиальная степень 2: mse=133573.41, rmse=365.48, mae=276.35\n",
      "Полиномиальная степень 3: mse=132180.88, rmse=363.57, mae=275.13\n",
      "Процентаж: тренировочная=64.7%, тестовая=35.3%\n",
      "Полиномиальная степень 1: mse=130063.52, rmse=360.64, mae=273.12\n",
      "Полиномиальная степень 2: mse=129844.17, rmse=360.34, mae=273.08\n",
      "Полиномиальная степень 3: mse=127895.52, rmse=357.62, mae=269.16\n",
      "Процентаж: тренировочная=67.2%, тестовая=32.8%\n",
      "Полиномиальная степень 1: mse=137931.1, rmse=371.39, mae=281.99\n",
      "Полиномиальная степень 2: mse=137917.0, rmse=371.37, mae=281.99\n",
      "Полиномиальная степень 3: mse=134637.18, rmse=366.93, mae=277.83\n",
      "Процентаж: тренировочная=69.7%, тестовая=30.3%\n",
      "Полиномиальная степень 1: mse=141260.36, rmse=375.85, mae=289.66\n",
      "Полиномиальная степень 2: mse=140026.2, rmse=374.2, mae=288.78\n",
      "Полиномиальная степень 3: mse=133185.67, rmse=364.95, mae=278.48\n",
      "Процентаж: тренировочная=72.1%, тестовая=27.9%\n",
      "Полиномиальная степень 1: mse=142113.54, rmse=376.98, mae=293.15\n",
      "Полиномиальная степень 2: mse=139959.87, rmse=374.11, mae=289.77\n",
      "Полиномиальная степень 3: mse=133287.87, rmse=365.09, mae=279.22\n",
      "Процентаж: тренировочная=74.6%, тестовая=25.4%\n",
      "Полиномиальная степень 1: mse=140607.39, rmse=374.98, mae=292.85\n",
      "Полиномиальная степень 2: mse=137995.66, rmse=371.48, mae=288.02\n",
      "Полиномиальная степень 3: mse=132554.69, rmse=364.08, mae=278.0\n",
      "Процентаж: тренировочная=77.1%, тестовая=22.9%\n",
      "Полиномиальная степень 1: mse=139576.44, rmse=373.6, mae=293.76\n",
      "Полиномиальная степень 2: mse=135604.09, rmse=368.24, mae=285.77\n",
      "Полиномиальная степень 3: mse=130190.35, rmse=360.82, mae=274.49\n",
      "Процентаж: тренировочная=79.6%, тестовая=20.4%\n",
      "Полиномиальная степень 1: mse=141660.56, rmse=376.38, mae=297.49\n",
      "Полиномиальная степень 2: mse=134508.09, rmse=366.75, mae=283.35\n",
      "Полиномиальная степень 3: mse=127413.17, rmse=356.95, mae=271.25\n",
      "Процентаж: тренировочная=82.1%, тестовая=17.9%\n",
      "Полиномиальная степень 1: mse=144413.78, rmse=380.02, mae=300.34\n",
      "Полиномиальная степень 2: mse=134019.05, rmse=366.09, mae=284.07\n",
      "Полиномиальная степень 3: mse=126414.03, rmse=355.55, mae=270.86\n",
      "Процентаж: тренировочная=84.6%, тестовая=15.4%\n",
      "Полиномиальная степень 1: mse=149185.52, rmse=386.25, mae=306.56\n",
      "Полиномиальная степень 2: mse=133364.97, rmse=365.19, mae=283.68\n",
      "Полиномиальная степень 3: mse=124099.42, rmse=352.28, mae=268.67\n",
      "Процентаж: тренировочная=87.1%, тестовая=12.9%\n",
      "Полиномиальная степень 1: mse=154593.26, rmse=393.18, mae=313.97\n",
      "Полиномиальная степень 2: mse=132725.14, rmse=364.31, mae=283.39\n",
      "Полиномиальная степень 3: mse=122567.48, rmse=350.1, mae=267.94\n",
      "Процентаж: тренировочная=89.6%, тестовая=10.4%\n",
      "Полиномиальная степень 1: mse=162757.42, rmse=403.43, mae=321.14\n",
      "Полиномиальная степень 2: mse=134697.16, rmse=367.01, mae=286.15\n",
      "Полиномиальная степень 3: mse=124347.65, rmse=352.63, mae=271.21\n",
      "Процентаж: тренировочная=92.0%, тестовая=8.0%\n",
      "Полиномиальная степень 1: mse=182661.85, rmse=427.39, mae=337.28\n",
      "Полиномиальная степень 2: mse=141506.97, rmse=376.17, mae=294.14\n",
      "Полиномиальная степень 3: mse=127158.65, rmse=356.59, mae=274.29\n",
      "Процентаж: тренировочная=94.5%, тестовая=5.5%\n",
      "Полиномиальная степень 1: mse=189357.28, rmse=435.15, mae=345.01\n",
      "Полиномиальная степень 2: mse=141057.53, rmse=375.58, mae=293.84\n",
      "Полиномиальная степень 3: mse=127893.37, rmse=357.62, mae=276.93\n",
      "Процентаж: тренировочная=97.0%, тестовая=3.0%\n",
      "Полиномиальная степень 1: mse=213011.18, rmse=461.53, mae=364.37\n",
      "Полиномиальная степень 2: mse=147581.86, rmse=384.16, mae=300.5\n",
      "Полиномиальная степень 3: mse=130690.41, rmse=361.51, mae=280.11\n",
      "Процентаж: тренировочная=99.5%, тестовая=0.5%\n",
      "Полиномиальная степень 1: mse=215359.86, rmse=464.07, mae=369.6\n",
      "Полиномиальная степень 2: mse=145815.27, rmse=381.86, mae=299.07\n",
      "Полиномиальная степень 3: mse=133270.59, rmse=365.06, mae=284.65\n"
     ]
    }
   ],
   "source": [
    "train_border = 3\n",
    "final_border = 4.2\n",
    "\n",
    "train_data_border = int(train_border * 7 * 24)\n",
    "final_data_border = int(final_border * 7 * 24)\n",
    "border = train_data_border + 5\n",
    "\n",
    "while border < final_data_border:\n",
    "    hours_data_train = hours_data[train_data_border:border]\n",
    "    requests_data_train = requests_data[train_data_border:border]\n",
    "\n",
    "    percentage_test = round((final_data_border - border) / (final_data_border - train_data_border) * 100, 1)\n",
    "    percentage_train = round(100 - percentage_test, 1)\n",
    "\n",
    "    print(f'Процентаж: тренировочная={percentage_train}%, тестовая={percentage_test}%')\n",
    "\n",
    "    for degree in range(1, 4):\n",
    "        fx, mse, rmse, mae, _ = calculate_metrics(degree, hours_data_train, requests_data_train)\n",
    "        print(f'Полиномиальная степень {degree}: mse={round(mse, 2)}, rmse={round(rmse, 2)}, mae={round(mae, 2)}')\n",
    "    border += 5"
   ]
  }
 ],
 "metadata": {
  "kernelspec": {
   "display_name": "Python 3",
   "language": "python",
   "name": "python3"
  },
  "language_info": {
   "codemirror_mode": {
    "name": "ipython",
    "version": 3
   },
   "file_extension": ".py",
   "mimetype": "text/x-python",
   "name": "python",
   "nbconvert_exporter": "python",
   "pygments_lexer": "ipython3",
   "version": "3.12.3"
  }
 },
 "nbformat": 4,
 "nbformat_minor": 2
}
